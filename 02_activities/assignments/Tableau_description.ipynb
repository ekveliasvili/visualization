{
 "cells": [
  {
   "cell_type": "markdown",
   "metadata": {},
   "source": [
    "Link to Tableau viz: https://public.tableau.com/views/Numberofshort-termregisteredrentalsbyTorontoneighborhood/Sheet1?:language=en-US&:sid=&:redirect=auth&:display_count=n&:origin=viz_share_link"
   ]
  },
  {
   "cell_type": "markdown",
   "metadata": {},
   "source": [
    "\n",
    "\n",
    "> I used Tableau Public to create this viz\n",
    " \n",
    "> Who is your intended audience? \n",
    "     Intended audience for my viz is general public between the age of 18 to 70 years old, who might be looking at the options to increase the income.\n",
    "\n",
    "> What information or message are you trying to convey with your visualization? \n",
    "     I wanted to provide general public with the quick and accessible graph to show what neighbourhood have more short-term rentals registrations by each type of the property. This time it's more congested with data, but it provides more granular information as to what areas of the city are potentially interesting to consider if you decide to short lease your property. The fact that the most number of properties are rented in Spadina-Fort York we can assume that this area has more demand.\n",
    "\n",
    "> What design principles (substantive, perceptual, aesthetic) did you consider when making your visualization? How did you apply these principles? With what elements of your plots? \n",
    "     I tried to keep the graph clean and avoid any excessive cognitive load on the audience, but this time I chose brighter colour to showcase different type of rentals registered by the region.I still used the most conventional  type of viz, which is widely known and can be easily understood  by most people.\n",
    "\n",
    "> How did you ensure that your data visualizations are reproducible? If the tool you used to make your data visualization is not reproducible, how will this impact your data visualization? \n",
    "     To ensure that viz can be reproduced I will need to provide some documentation describing the logic behind this viz.\n",
    "\n",
    "> How did you ensure that your data visualization is accessible? \n",
    "     I kept text bold, providing that the viz is interactive you can click on it and it let’s to read the information.   \n",
    "   \n",
    "> Who are the individuals and communities who might be impacted by your visualization?  \n",
    "     The owners of the real estate, people who rent short term properties as it might have impact on prices. It also can be useful for companies like AirBnB and others who offer this type of service.\n",
    "\n",
    "> How did you choose which features of your chosen dataset to include or exclude from your visualization? \n",
    "     I have reviewed all columns of the dataset and determined what type of relations i could represent on this graph which will be different from what I had already created in Python.\n",
    "     \n",
    "> What ‘underwater labour’ contributed to your final data visualization product? \n",
    "     First of all it's employee from the City of Toronto who needs to ensure that when they register property it's accurately recorded so when it comes to creating viz using the data we can rely on the accuracy of the provided data.\n",
    "\n",
    "\n"
   ]
  }
 ],
 "metadata": {
  "language_info": {
   "name": "python"
  }
 },
 "nbformat": 4,
 "nbformat_minor": 2
}
